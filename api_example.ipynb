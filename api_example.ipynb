{
 "cells": [
  {
   "cell_type": "markdown",
   "id": "8e009450-52b1-468f-8598-44ba3bb6dace",
   "metadata": {},
   "source": [
    "# API Example for Developer Mindset"
   ]
  },
  {
   "cell_type": "markdown",
   "id": "13e9d482",
   "metadata": {},
   "source": [
    "Welcomoe to a quick code-driven example on the usage of APIs. Here we'll walk you through a quick set of functions we can use to programmatically interact with, our weather API.\n",
    "\n",
    "First things first, let's talk about what is happenning here.\n",
    "- This environment you are in is called a jupyter notebook and its content gets built up cell-by-cell.\n",
    "- A cell, like this one, allows you to write code and words by changed the box at the top that might say right now, Markdown or Code.\n",
    "- To execute a cell, that is, to run your code, you will either press the ▶️ button at the top or, preferrably, use `SHIFT + ENTER`.\n",
    "- To add a new cell below the one you are currently in, you can press the `+` button at the top.\n",
    "- To change a cell from text to code and vice-versa, use the dropdown box at the top that contains either option, and select your preferred one.\n",
    "\n",
    "Now on to coding."
   ]
  },
  {
   "cell_type": "markdown",
   "id": "effbf122",
   "metadata": {},
   "source": [
    "## Importing the Libraries We Need\n",
    "\n",
    "In the same way we used the `turtle` and `shapes` libraries of code earlier, we can use other ones easily available in Python after we import them to our session.\n",
    "\n",
    "- `json` - if you recall from our explanation a few minutes ago, data is transferred over the internet in a format called JSON. This tranfer of data is usually done via an API once we make a...\n",
    "- `requests` - with code, or in our case, a nice package built in Python that allow us to programmatically receive information via the web.\n",
    "- `pprint` - is a function that will print, in a pretty format, anything we give it.\n",
    "\n",
    "To recap, a library (sometimes called a module) is code already written for us an abstracted into a single place. Like with our `turtle` package, we have many others available to us to make our lives easier as developers.\n",
    "\n",
    "Now run your cell with `SHIFT + ENTER` and get coding."
   ]
  },
  {
   "cell_type": "code",
   "execution_count": 14,
   "id": "83c97a0a",
   "metadata": {},
   "outputs": [],
   "source": [
    "import json\n",
    "import requests\n",
    "from pprint import pprint"
   ]
  },
  {
   "cell_type": "markdown",
   "id": "b6d54868",
   "metadata": {},
   "source": [
    "## API Requirements\n",
    "\n",
    "To access information via APIs you often need an access key. This access key usually guarantees some visibility to the owner of the APIs so that they can grant access to good people, and take away from those who might abuse their products.\n",
    "\n",
    "So what is happening below.\n",
    "- The name `my_key` below is called a variable and it serves as the label of an object we want to reuse within our session.\n",
    "- The alphanumeric characters inside quotation marks below are called strings or, more simply, pieces of text within our code."
   ]
  },
  {
   "cell_type": "code",
   "execution_count": 23,
   "id": "df146087",
   "metadata": {},
   "outputs": [],
   "source": [
    "my_key = \"6afed078490ecfc7c483c00353bb1d30\"\n",
    "my_city_of_interest = \"San Francisco\""
   ]
  },
  {
   "cell_type": "markdown",
   "id": "6a28159d",
   "metadata": {},
   "source": [
    "## Your First Request with Code\n",
    "\n",
    "The `requests` library has a nice function that we can use with `.get()`. Within it, we pass the API URL we use earlier alongside our variables defined above. In order to include in a piece of text, we need an `f` in front of the quotation marks `\" \"` and we need curly brackets to add our defined variables to their respective places."
   ]
  },
  {
   "cell_type": "code",
   "execution_count": 24,
   "id": "24388362",
   "metadata": {},
   "outputs": [],
   "source": [
    "r = requests.get(f\"http://api.openweathermap.org/data/2.5/weather?q={my_city_of_interest}&appid={my_key}\")"
   ]
  },
  {
   "cell_type": "code",
   "execution_count": null,
   "id": "64a40bfb",
   "metadata": {},
   "outputs": [],
   "source": [
    "pprint(json.loads(r.text),compact=True)"
   ]
  },
  {
   "cell_type": "markdown",
   "id": "71d114d9",
   "metadata": {},
   "source": [
    "## Getting Multiple Cities at a Time\n",
    "\n",
    "If you go back to the blockly example, you will notice immediately the loops at your disposal that helped you give your avatar a way to redo the same step multiple times. These loops in a programming language like Python go as follows.\n",
    "\n",
    "```python\n",
    "for what_i_am_interested in a_list_of_things:\n",
    "    \"I will take a repeated action here\"\n",
    "    print(what_i_am_interested)\n",
    "```\n",
    "Let's go over each component above.\n",
    "- `for` initialises your loop\n",
    "- `what_i_am_interested` can be named however you like and it will represent each element inside a list or, like in our blockly example, each step you needed to take.\n",
    "- `in` tells the loop where your elements or actions of interest are located at.\n",
    "- `a_list_of_things` contains the elements or actions you are interested in.\n",
    "- `:` stops the initializer and leads to the...\n",
    "- `print(what_i_am_interested)` an action we want to do to what `what_i_am_interested` inside our `a_list_of_things`.\n",
    "\n",
    "In the variable below we have a list (denoted by `[]`) of the names of cities we are interested in visiting in 2022. Change them as you'd like a run your cells."
   ]
  },
  {
   "cell_type": "code",
   "execution_count": 26,
   "id": "b787fd26",
   "metadata": {},
   "outputs": [],
   "source": [
    "# write your desired cities here\n",
    "goals_for_2022 = [\"Seoul\", \"Chicago\", \"Melbourne\"]"
   ]
  },
  {
   "cell_type": "code",
   "execution_count": null,
   "id": "ef52831c",
   "metadata": {},
   "outputs": [],
   "source": [
    "for city in goals_for_2022:\n",
    "    r2 = requests.get(f\"http://api.openweathermap.org/data/2.5/weather?q={city}&appid={my_key}&units=metric\")\n",
    "    print(city)\n",
    "    print(f\"The current temperature is --> {json.loads(r2.text)['main']['temp']} C\")\n",
    "    print(\"-\" * 30)"
   ]
  }
 ],
 "metadata": {
  "kernelspec": {
   "display_name": "Python 3 (ipykernel)",
   "language": "python",
   "name": "python3"
  },
  "language_info": {
   "codemirror_mode": {
    "name": "ipython",
    "version": 3
   },
   "file_extension": ".py",
   "mimetype": "text/x-python",
   "name": "python",
   "nbconvert_exporter": "python",
   "pygments_lexer": "ipython3",
   "version": "3.9.5"
  }
 },
 "nbformat": 4,
 "nbformat_minor": 5
}
